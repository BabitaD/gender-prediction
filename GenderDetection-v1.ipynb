{
 "cells": [
  {
   "cell_type": "code",
   "execution_count": 1,
   "metadata": {},
   "outputs": [],
   "source": [
    "import pandas as pd\n",
    "import numpy as np\n",
    "from sklearn.model_selection import train_test_split\n",
    "from sklearn.linear_model import LogisticRegression\n",
    "from sklearn.metrics import accuracy_score, f1_score, recall_score, confusion_matrix, plot_confusion_matrix\n",
    "from sklearn.feature_extraction.text import CountVectorizer\n",
    "from sklearn.feature_extraction import DictVectorizer\n",
    "from sklearn.tree import DecisionTreeClassifier\n",
    "from sklearn.ensemble import RandomForestClassifier\n",
    "import matplotlib.pyplot as plt\n",
    "from sklearn_pandas import DataFrameMapper"
   ]
  },
  {
   "cell_type": "code",
   "execution_count": 2,
   "metadata": {},
   "outputs": [],
   "source": [
    "def read_csv(filename):\n",
    "    data = pd.read_csv(filename)\n",
    "    data.columns = ['name','gender']\n",
    "    data['name'] = data['name'].str.lower()\n",
    "    data['genderX'] = data.gender.map(dict(m=1, f=0))\n",
    "    #split into firstname and last name after first space\n",
    "    data[['firstname','lastname']]=data['name'].str.rsplit(\" \", n=1, expand=True)\n",
    "    data['namelen'] = [len(str(i)) for i in data['firstname']]\n",
    "    data = data[(data['namelen'] >= 2)]\n",
    "    data.firstname.dropna() #drop null values\n",
    "    data.firstname = data.firstname.astype(str)\n",
    "    return data"
   ]
  },
  {
   "cell_type": "code",
   "execution_count": 3,
   "metadata": {},
   "outputs": [],
   "source": [
    "test_file = \"../data/test_data.csv\"\n",
    "train_file = \"../data/train_data.csv\"\n",
    "\n",
    "data = read_csv(train_file)\n",
    "test_data = read_csv(test_file)"
   ]
  },
  {
   "cell_type": "code",
   "execution_count": 4,
   "metadata": {},
   "outputs": [],
   "source": [
    "title_list = ['ms','mrs','smt','ku','mr','master','miss','dr','ca']\n",
    "test_data.head()\n",
    "test_data[['first','last']]=test_data['name'].str.rsplit(\" \", n=1, expand=True)\n",
    "test_data['first'][1].split(\" \")\n",
    "test_data['first'] = test_data['first'].str.strip()\n",
    "has_space = test_data['first'].str.contains(' ')\n",
    "a = test_data.loc[has_space, 'first'].str.split('\\s', expand=True)"
   ]
  },
  {
   "cell_type": "code",
   "execution_count": 5,
   "metadata": {},
   "outputs": [
    {
     "data": {
      "text/html": [
       "<div>\n",
       "<style scoped>\n",
       "    .dataframe tbody tr th:only-of-type {\n",
       "        vertical-align: middle;\n",
       "    }\n",
       "\n",
       "    .dataframe tbody tr th {\n",
       "        vertical-align: top;\n",
       "    }\n",
       "\n",
       "    .dataframe thead th {\n",
       "        text-align: right;\n",
       "    }\n",
       "</style>\n",
       "<table border=\"1\" class=\"dataframe\">\n",
       "  <thead>\n",
       "    <tr style=\"text-align: right;\">\n",
       "      <th></th>\n",
       "      <th>name</th>\n",
       "      <th>gender</th>\n",
       "      <th>genderX</th>\n",
       "      <th>firstname</th>\n",
       "      <th>lastname</th>\n",
       "      <th>namelen</th>\n",
       "      <th>first</th>\n",
       "      <th>last</th>\n",
       "    </tr>\n",
       "  </thead>\n",
       "  <tbody>\n",
       "    <tr>\n",
       "      <th>0</th>\n",
       "      <td>isha</td>\n",
       "      <td>f</td>\n",
       "      <td>0</td>\n",
       "      <td>isha</td>\n",
       "      <td>None</td>\n",
       "      <td>4</td>\n",
       "      <td>isha</td>\n",
       "      <td>None</td>\n",
       "    </tr>\n",
       "    <tr>\n",
       "      <th>1</th>\n",
       "      <td>smt shyani devi</td>\n",
       "      <td>f</td>\n",
       "      <td>0</td>\n",
       "      <td>smt shyani</td>\n",
       "      <td>devi</td>\n",
       "      <td>10</td>\n",
       "      <td>shyani</td>\n",
       "      <td>devi</td>\n",
       "    </tr>\n",
       "    <tr>\n",
       "      <th>2</th>\n",
       "      <td>divya</td>\n",
       "      <td>f</td>\n",
       "      <td>0</td>\n",
       "      <td>divya</td>\n",
       "      <td>None</td>\n",
       "      <td>5</td>\n",
       "      <td>divya</td>\n",
       "      <td>None</td>\n",
       "    </tr>\n",
       "    <tr>\n",
       "      <th>3</th>\n",
       "      <td>mansi</td>\n",
       "      <td>f</td>\n",
       "      <td>0</td>\n",
       "      <td>mansi</td>\n",
       "      <td>None</td>\n",
       "      <td>5</td>\n",
       "      <td>mansi</td>\n",
       "      <td>None</td>\n",
       "    </tr>\n",
       "    <tr>\n",
       "      <th>4</th>\n",
       "      <td>mazida</td>\n",
       "      <td>f</td>\n",
       "      <td>0</td>\n",
       "      <td>mazida</td>\n",
       "      <td>None</td>\n",
       "      <td>6</td>\n",
       "      <td>mazida</td>\n",
       "      <td>None</td>\n",
       "    </tr>\n",
       "  </tbody>\n",
       "</table>\n",
       "</div>"
      ],
      "text/plain": [
       "              name gender  genderX   firstname lastname  namelen   first  last\n",
       "0             isha      f        0        isha     None        4    isha  None\n",
       "1  smt shyani devi      f        0  smt shyani     devi       10  shyani  devi\n",
       "2            divya      f        0       divya     None        5   divya  None\n",
       "3            mansi      f        0       mansi     None        5   mansi  None\n",
       "4           mazida      f        0      mazida     None        6  mazida  None"
      ]
     },
     "execution_count": 5,
     "metadata": {},
     "output_type": "execute_result"
    }
   ],
   "source": [
    "filter = a[a[0].isin(title_list)].iloc[: ,0:2]\n",
    "filter.columns = ['title','first']\n",
    "test_data.update(filter)\n",
    "test_data.head()"
   ]
  },
  {
   "cell_type": "code",
   "execution_count": 6,
   "metadata": {},
   "outputs": [],
   "source": [
    "# extract is_vowel feature\n",
    "def is_vowel(data):   \n",
    "    vowel = ['a','e','i','o','u']\n",
    "    data['is_vowel'] = [x.strip()[-1:] in vowel for x in data['firstname']]\n",
    "    data['is_vowel'] = data.is_vowel.astype(int)\n",
    "    return data\n",
    "\n",
    "# extract sonorant constant\n",
    "def is_sonorant(data):\n",
    "    sonorant = ['y', 'w', 'l', 'r', 'm', 'n','ng']\n",
    "    data['is_sonorant'] = [x.strip()[-1:] in sonorant for x in data['firstname']]\n",
    "    data['is_sonorant'] = data.is_sonorant.astype(int)\n",
    "    return data"
   ]
  },
  {
   "cell_type": "code",
   "execution_count": 7,
   "metadata": {},
   "outputs": [],
   "source": [
    "data = is_vowel(data)\n",
    "data = is_sonorant(data)\n",
    "\n",
    "test_data = is_vowel(test_data)\n",
    "test_data = is_sonorant(test_data)\n"
   ]
  },
  {
   "cell_type": "code",
   "execution_count": 13,
   "metadata": {},
   "outputs": [
    {
     "data": {
      "text/html": [
       "<div>\n",
       "<style scoped>\n",
       "    .dataframe tbody tr th:only-of-type {\n",
       "        vertical-align: middle;\n",
       "    }\n",
       "\n",
       "    .dataframe tbody tr th {\n",
       "        vertical-align: top;\n",
       "    }\n",
       "\n",
       "    .dataframe thead th {\n",
       "        text-align: right;\n",
       "    }\n",
       "</style>\n",
       "<table border=\"1\" class=\"dataframe\">\n",
       "  <thead>\n",
       "    <tr style=\"text-align: right;\">\n",
       "      <th></th>\n",
       "      <th>name</th>\n",
       "      <th>gender</th>\n",
       "      <th>genderX</th>\n",
       "      <th>firstname</th>\n",
       "      <th>lastname</th>\n",
       "      <th>namelen</th>\n",
       "      <th>first</th>\n",
       "      <th>last</th>\n",
       "      <th>is_vowel</th>\n",
       "      <th>is_sonorant</th>\n",
       "    </tr>\n",
       "  </thead>\n",
       "  <tbody>\n",
       "    <tr>\n",
       "      <th>0</th>\n",
       "      <td>isha</td>\n",
       "      <td>f</td>\n",
       "      <td>0</td>\n",
       "      <td>isha</td>\n",
       "      <td>None</td>\n",
       "      <td>4</td>\n",
       "      <td>isha</td>\n",
       "      <td>None</td>\n",
       "      <td>1</td>\n",
       "      <td>0</td>\n",
       "    </tr>\n",
       "    <tr>\n",
       "      <th>1</th>\n",
       "      <td>smt shyani devi</td>\n",
       "      <td>f</td>\n",
       "      <td>0</td>\n",
       "      <td>smt shyani</td>\n",
       "      <td>devi</td>\n",
       "      <td>10</td>\n",
       "      <td>shyani</td>\n",
       "      <td>devi</td>\n",
       "      <td>1</td>\n",
       "      <td>0</td>\n",
       "    </tr>\n",
       "    <tr>\n",
       "      <th>2</th>\n",
       "      <td>divya</td>\n",
       "      <td>f</td>\n",
       "      <td>0</td>\n",
       "      <td>divya</td>\n",
       "      <td>None</td>\n",
       "      <td>5</td>\n",
       "      <td>divya</td>\n",
       "      <td>None</td>\n",
       "      <td>1</td>\n",
       "      <td>0</td>\n",
       "    </tr>\n",
       "    <tr>\n",
       "      <th>3</th>\n",
       "      <td>mansi</td>\n",
       "      <td>f</td>\n",
       "      <td>0</td>\n",
       "      <td>mansi</td>\n",
       "      <td>None</td>\n",
       "      <td>5</td>\n",
       "      <td>mansi</td>\n",
       "      <td>None</td>\n",
       "      <td>1</td>\n",
       "      <td>0</td>\n",
       "    </tr>\n",
       "    <tr>\n",
       "      <th>4</th>\n",
       "      <td>mazida</td>\n",
       "      <td>f</td>\n",
       "      <td>0</td>\n",
       "      <td>mazida</td>\n",
       "      <td>None</td>\n",
       "      <td>6</td>\n",
       "      <td>mazida</td>\n",
       "      <td>None</td>\n",
       "      <td>1</td>\n",
       "      <td>0</td>\n",
       "    </tr>\n",
       "  </tbody>\n",
       "</table>\n",
       "</div>"
      ],
      "text/plain": [
       "              name gender  genderX   firstname lastname  namelen   first  \\\n",
       "0             isha      f        0        isha     None        4    isha   \n",
       "1  smt shyani devi      f        0  smt shyani     devi       10  shyani   \n",
       "2            divya      f        0       divya     None        5   divya   \n",
       "3            mansi      f        0       mansi     None        5   mansi   \n",
       "4           mazida      f        0      mazida     None        6  mazida   \n",
       "\n",
       "   last  is_vowel  is_sonorant  \n",
       "0  None         1            0  \n",
       "1  devi         1            0  \n",
       "2  None         1            0  \n",
       "3  None         1            0  \n",
       "4  None         1            0  "
      ]
     },
     "execution_count": 13,
     "metadata": {},
     "output_type": "execute_result"
    }
   ],
   "source": [
    "test_data.head()"
   ]
  },
  {
   "cell_type": "markdown",
   "metadata": {},
   "source": [
    "#### Feature Extraction"
   ]
  },
  {
   "cell_type": "markdown",
   "metadata": {},
   "source": [
    "#### using sounds or group of letters in start and end as features"
   ]
  },
  {
   "cell_type": "code",
   "execution_count": 8,
   "metadata": {},
   "outputs": [],
   "source": [
    "def features(name,is_vowel,is_sonorant):\n",
    "    name = name.lower()\n",
    "    return {\n",
    "        'first-letter': name[0], # First letter\n",
    "        'first2-letters': name[0:2], # First 2 letters\n",
    "        'first3-letters': name[0:3], # First 3 letters\n",
    "        'last-letter': name[-1],\n",
    "        'last2-letters': name[-2:],\n",
    "        'last3-letters': name[-3:],\n",
    "        'is_vowel': is_vowel,\n",
    "        'is_sonorant': is_sonorant\n",
    "    }\n",
    "\n",
    "# Vectorizing feature function\n",
    "features = np.vectorize(features)"
   ]
  },
  {
   "cell_type": "code",
   "execution_count": 9,
   "metadata": {},
   "outputs": [],
   "source": [
    "X = features(data['firstname'],data['is_vowel'],data['is_sonorant'])\n",
    "y = data['genderX']\n"
   ]
  },
  {
   "cell_type": "code",
   "execution_count": 10,
   "metadata": {},
   "outputs": [
    {
     "data": {
      "text/plain": [
       "DictVectorizer()"
      ]
     },
     "execution_count": 10,
     "metadata": {},
     "output_type": "execute_result"
    }
   ],
   "source": [
    "corpus = features([\"Raj\", \"Simran\"],1,0)\n",
    "dv = DictVectorizer()\n",
    "dv.fit(corpus)"
   ]
  },
  {
   "cell_type": "code",
   "execution_count": 12,
   "metadata": {},
   "outputs": [],
   "source": [
    "transformed = dv.transform(corpus)"
   ]
  },
  {
   "cell_type": "code",
   "execution_count": 13,
   "metadata": {},
   "outputs": [],
   "source": [
    "X_train = X\n",
    "y_train = y"
   ]
  },
  {
   "cell_type": "code",
   "execution_count": 14,
   "metadata": {},
   "outputs": [],
   "source": [
    "X_test = features(test_data['firstname'],test_data['is_vowel'],test_data['is_sonorant'])\n",
    "y_test = test_data.genderX"
   ]
  },
  {
   "cell_type": "code",
   "execution_count": 15,
   "metadata": {},
   "outputs": [
    {
     "data": {
      "text/plain": [
       "{'first-letter': 'i',\n",
       " 'first2-letters': 'is',\n",
       " 'first3-letters': 'ish',\n",
       " 'last-letter': 'a',\n",
       " 'last2-letters': 'ha',\n",
       " 'last3-letters': 'sha',\n",
       " 'is_vowel': 1,\n",
       " 'is_sonorant': 0}"
      ]
     },
     "execution_count": 15,
     "metadata": {},
     "output_type": "execute_result"
    }
   ],
   "source": [
    "X_test[0]"
   ]
  },
  {
   "cell_type": "code",
   "execution_count": 17,
   "metadata": {},
   "outputs": [],
   "source": [
    "X_train_features = dv.fit_transform(X_train)\n",
    "X_test_features = dv.transform(X_test)"
   ]
  },
  {
   "cell_type": "code",
   "execution_count": 19,
   "metadata": {},
   "outputs": [
    {
     "data": {
      "text/plain": [
       "DecisionTreeClassifier()"
      ]
     },
     "execution_count": 19,
     "metadata": {},
     "output_type": "execute_result"
    }
   ],
   "source": [
    "## Descision Tree\n",
    "dclf = DecisionTreeClassifier()\n",
    "# xfeatures =dv.fit_transform(X_train)\n",
    "\n",
    "dclf.fit(X_train_features, y_train)"
   ]
  },
  {
   "cell_type": "code",
   "execution_count": 22,
   "metadata": {},
   "outputs": [
    {
     "name": "stdout",
     "output_type": "stream",
     "text": [
      "0.9813101996555463\n",
      "0.8408249781306776\n"
     ]
    }
   ],
   "source": [
    "# Accuracy traina and test\n",
    "print(dclf.score(X_train_features, y_train))\n",
    "print(dclf.score(X_test_features, y_test))"
   ]
  },
  {
   "cell_type": "code",
   "execution_count": 26,
   "metadata": {},
   "outputs": [
    {
     "name": "stdout",
     "output_type": "stream",
     "text": [
      "Accuracy Score: 0.8408249781306776\n",
      "F1 Score: 0.8524283352568701\n",
      "Recall Score: 0.931107325383305\n",
      "Confusion Matrix :\n",
      "[[11327  3720]\n",
      " [ 1011 13664]]\n"
     ]
    }
   ],
   "source": [
    "## performance metrics\n",
    "dt_pred = dclf.predict(X_test_features)\n",
    "print(\"Accuracy Score: {}\".format(accuracy_score(y_test, dt_pred)))\n",
    "print(\"F1 Score: {}\".format(f1_score(y_test, dt_pred)))\n",
    "print(\"Recall Score: {}\".format(recall_score(y_test, dt_pred)))\n",
    "print(\"Confusion Matrix :\")\n",
    "print(confusion_matrix(y_test, dt_pred))"
   ]
  },
  {
   "cell_type": "code",
   "execution_count": 27,
   "metadata": {},
   "outputs": [],
   "source": [
    "def genderpredictor1(name,is_vowel,is_sonorant,clf):\n",
    "    test_name1 = [name]\n",
    "    transform_dv =dv.transform(features(test_name1,is_vowel,is_sonorant))\n",
    "    vector = transform_dv.toarray()\n",
    "    if clf.predict(vector) == 0:\n",
    "        print(\"Female\")\n",
    "        print(clf.predict_proba(vector))\n",
    "    else:\n",
    "        print(\"Male\")\n",
    "        print(clf.predict_proba(vector))"
   ]
  },
  {
   "cell_type": "code",
   "execution_count": 28,
   "metadata": {},
   "outputs": [
    {
     "name": "stdout",
     "output_type": "stream",
     "text": [
      "pranjal\n",
      "Female\n",
      "[[1. 0.]]\n",
      "None\n",
      "Ameya\n",
      "Male\n",
      "[[0. 1.]]\n",
      "None\n",
      "Kiran\n",
      "Female\n",
      "[[0.88888889 0.11111111]]\n",
      "None\n",
      "sheetal\n",
      "Female\n",
      "[[0.77777778 0.22222222]]\n",
      "None\n",
      "Karan\n",
      "Male\n",
      "[[0.2 0.8]]\n",
      "None\n",
      "Ms. Jay\n",
      "Female\n",
      "[[1. 0.]]\n",
      "None\n",
      "Dr. Jay\n",
      "Male\n",
      "[[0. 1.]]\n",
      "None\n",
      "Dr. Jaya\n",
      "Male\n",
      "[[0. 1.]]\n",
      "None\n",
      "Akshay\n",
      "Male\n",
      "[[0.02272727 0.97727273]]\n",
      "None\n",
      "Akshaya\n",
      "Male\n",
      "[[0. 1.]]\n",
      "None\n"
     ]
    }
   ],
   "source": [
    "def is_vowel(data):\n",
    "    vowel = ['a','e','i','o','u']\n",
    "    data['is_vowel'] = [x.strip()[-1:] in vowel for x in data['firstname']]\n",
    "    data['is_vowel'] = data.is_vowel.astype(int)\n",
    "    return data\n",
    "\n",
    "# extract sonorant constant\n",
    "def is_sonorant(data):\n",
    "    sonorant = ['y', 'w', 'l', 'r', 'm', 'n','ng']\n",
    "    data['is_sonorant'] = [x.strip()[-1:] in sonorant for x in data['firstname']]\n",
    "    data['is_sonorant'] = data.is_sonorant.astype(int)\n",
    "    return data\n",
    "name_list = [\"pranjal\",\"Ameya\",\"Kiran\",\"sheetal\",\"Karan\",\n",
    "           \"Ms. Jay\",\"Dr. Jay\",\"Dr. Jaya\",\n",
    "            \"Akshay\",\"Akshaya\"]\n",
    "vowel = ['a','e','i','o','u']\n",
    "sonorant = ['y', 'w', 'l', 'r', 'm', 'n','ng']\n",
    "is_vowel = [x.strip()[-1:] in vowel for x in name_list]\n",
    "is_vowel = data.is_vowel.astype(int)\n",
    "is_sonorant = [x.strip()[-1:] in sonorant for x in name_list]\n",
    "is_sonorant = data.is_sonorant.astype(int)\n",
    "\n",
    "for i in range(len(name_list)):\n",
    "    print(name_list[i])\n",
    "    print(genderpredictor1(name_list[i],is_vowel[i],is_sonorant[i],dclf))"
   ]
  },
  {
   "cell_type": "markdown",
   "metadata": {},
   "source": [
    "--------------------------------------"
   ]
  },
  {
   "cell_type": "markdown",
   "metadata": {},
   "source": [
    "### Using Multiple Models"
   ]
  },
  {
   "cell_type": "code",
   "execution_count": null,
   "metadata": {},
   "outputs": [],
   "source": [
    "from sklearn.model_selection import cross_val_score\n",
    "from sklearn.model_selection import StratifiedKFold\n",
    "from sklearn.model_selection import StratifiedShuffleSplit\n",
    "from sklearn.metrics import classification_report\n",
    "from sklearn.neighbors import KNeighborsClassifier\n",
    "from sklearn.discriminant_analysis import LinearDiscriminantAnalysis\n",
    "from sklearn.naive_bayes import GaussianNB\n",
    "from sklearn.svm import SVC\n",
    "from xgboost import XGBClassifier\n",
    "from tqdm import tqdm\n",
    "import warnings\n",
    "warnings.filterwarnings('ignore')\n"
   ]
  },
  {
   "cell_type": "code",
   "execution_count": 41,
   "metadata": {},
   "outputs": [
    {
     "name": "stderr",
     "output_type": "stream",
     "text": [
      " 83%|█████████████████████████████████████████████████████████████████████▏             | 5/6 [05:39<01:45, 105.21s/it]"
     ]
    },
    {
     "name": "stdout",
     "output_type": "stream",
     "text": [
      "[15:44:12] WARNING: C:/Users/Administrator/workspace/xgboost-win64_release_1.4.0/src/learner.cc:1095: Starting in XGBoost 1.3.0, the default evaluation metric used with the objective 'binary:logistic' was changed from 'error' to 'logloss'. Explicitly set eval_metric if you'd like to restore the old behavior.\n",
      "[15:44:13] WARNING: C:/Users/Administrator/workspace/xgboost-win64_release_1.4.0/src/learner.cc:1095: Starting in XGBoost 1.3.0, the default evaluation metric used with the objective 'binary:logistic' was changed from 'error' to 'logloss'. Explicitly set eval_metric if you'd like to restore the old behavior.\n",
      "[15:44:14] WARNING: C:/Users/Administrator/workspace/xgboost-win64_release_1.4.0/src/learner.cc:1095: Starting in XGBoost 1.3.0, the default evaluation metric used with the objective 'binary:logistic' was changed from 'error' to 'logloss'. Explicitly set eval_metric if you'd like to restore the old behavior.\n",
      "[15:44:15] WARNING: C:/Users/Administrator/workspace/xgboost-win64_release_1.4.0/src/learner.cc:1095: Starting in XGBoost 1.3.0, the default evaluation metric used with the objective 'binary:logistic' was changed from 'error' to 'logloss'. Explicitly set eval_metric if you'd like to restore the old behavior.\n",
      "[15:44:16] WARNING: C:/Users/Administrator/workspace/xgboost-win64_release_1.4.0/src/learner.cc:1095: Starting in XGBoost 1.3.0, the default evaluation metric used with the objective 'binary:logistic' was changed from 'error' to 'logloss'. Explicitly set eval_metric if you'd like to restore the old behavior.\n",
      "[15:44:18] WARNING: C:/Users/Administrator/workspace/xgboost-win64_release_1.4.0/src/learner.cc:1095: Starting in XGBoost 1.3.0, the default evaluation metric used with the objective 'binary:logistic' was changed from 'error' to 'logloss'. Explicitly set eval_metric if you'd like to restore the old behavior.\n",
      "[15:44:19] WARNING: C:/Users/Administrator/workspace/xgboost-win64_release_1.4.0/src/learner.cc:1095: Starting in XGBoost 1.3.0, the default evaluation metric used with the objective 'binary:logistic' was changed from 'error' to 'logloss'. Explicitly set eval_metric if you'd like to restore the old behavior.\n",
      "[15:44:20] WARNING: C:/Users/Administrator/workspace/xgboost-win64_release_1.4.0/src/learner.cc:1095: Starting in XGBoost 1.3.0, the default evaluation metric used with the objective 'binary:logistic' was changed from 'error' to 'logloss'. Explicitly set eval_metric if you'd like to restore the old behavior.\n",
      "[15:44:21] WARNING: C:/Users/Administrator/workspace/xgboost-win64_release_1.4.0/src/learner.cc:1095: Starting in XGBoost 1.3.0, the default evaluation metric used with the objective 'binary:logistic' was changed from 'error' to 'logloss'. Explicitly set eval_metric if you'd like to restore the old behavior.\n",
      "[15:44:22] WARNING: C:/Users/Administrator/workspace/xgboost-win64_release_1.4.0/src/learner.cc:1095: Starting in XGBoost 1.3.0, the default evaluation metric used with the objective 'binary:logistic' was changed from 'error' to 'logloss'. Explicitly set eval_metric if you'd like to restore the old behavior.\n"
     ]
    },
    {
     "name": "stderr",
     "output_type": "stream",
     "text": [
      "100%|████████████████████████████████████████████████████████████████████████████████████| 6/6 [05:50<00:00, 58.44s/it]"
     ]
    },
    {
     "name": "stdout",
     "output_type": "stream",
     "text": [
      "{'LR': 0.9148, 'KNN': 0.9005, 'DTC': 0.905, 'SVM': 0.8553, 'RFC': 0.9143, 'XGB': 0.908}\n"
     ]
    },
    {
     "name": "stderr",
     "output_type": "stream",
     "text": [
      "\n"
     ]
    }
   ],
   "source": [
    "# Reference https://machinelearningmastery.com/compare-machine-learning-algorithms-python-scikit-learn/\n",
    "models = []\n",
    "models.append(('LR', LogisticRegression(solver='liblinear', multi_class='ovr')))\n",
    "models.append(('KNN', KNeighborsClassifier()))\n",
    "models.append(('DTC', DecisionTreeClassifier()))\n",
    "models.append(('SVM', SVC(gamma='auto')))\n",
    "models.append(('RFC', RandomForestClassifier()))\n",
    "models.append(('XGB',XGBClassifier()))\n",
    "\n",
    "results = []\n",
    "names=[]\n",
    "AccuracyDetails={}\n",
    "for name, model in tqdm(models):\n",
    "    kfold = StratifiedKFold(n_splits=10, random_state=100, shuffle=True)\n",
    "    cv_results = cross_val_score(model, X_train_features, y_train, cv=kfold, scoring='accuracy')\n",
    "    results.append(cv_results)\n",
    "    names.append(name)\n",
    "    AccuracyDetails[name]=round(cv_results.mean(),4)\n",
    "\n",
    "print(AccuracyDetails)"
   ]
  },
  {
   "cell_type": "code",
   "execution_count": 31,
   "metadata": {},
   "outputs": [
    {
     "data": {
      "image/png": "[encoded data removed]",
      "text/plain": [
       "<Figure size 432x288 with 1 Axes>"
      ]
     },
     "metadata": {
      "needs_background": "light"
     },
     "output_type": "display_data"
    }
   ],
   "source": [
    "fig = plt.figure()\n",
    "fig.suptitle('Algorithm Comparison')\n",
    "ax = fig.add_subplot(111)\n",
    "plt.boxplot(results)\n",
    "ax.set_xticklabels(names)\n",
    "plt.show()"
   ]
  },
  {
   "cell_type": "code",
   "execution_count": 32,
   "metadata": {},
   "outputs": [],
   "source": [
    "BestModel = max(AccuracyDetails, key=AccuracyDetails.get)\n",
    "\n",
    "for eachmodel in models:\n",
    "    if eachmodel[0]==BestModel:\n",
    "        model =eachmodel[1]"
   ]
  },
  {
   "cell_type": "code",
   "execution_count": 33,
   "metadata": {},
   "outputs": [
    {
     "name": "stdout",
     "output_type": "stream",
     "text": [
      "\n",
      "********************************************************\n",
      "\n",
      "{'LR': 0.9148, 'KNN': 0.9005, 'DTC': 0.9059, 'SVM': 0.8553, 'RFC': 0.914, 'XGB': 0.908}\n",
      "\n",
      "Accuracy_Score 85.1221317542561\n",
      "\n",
      "********************************************************\n",
      "\n"
     ]
    }
   ],
   "source": [
    "model.fit(X_train_features, y_train)\n",
    "predictions = model.predict(X_test_features)\n",
    "\n",
    "print (\"\\n********************************************************\\n\")\n",
    "print (AccuracyDetails)\n",
    "print(\"\\nAccuracy_Score\",accuracy_score(y_test, predictions)*100)\n",
    "print (\"\\n********************************************************\\n\")"
   ]
  },
  {
   "cell_type": "code",
   "execution_count": 34,
   "metadata": {},
   "outputs": [
    {
     "name": "stdout",
     "output_type": "stream",
     "text": [
      "LR\n",
      "[[11354  3693]\n",
      " [  729 13946]]\n",
      "              precision    recall  f1-score   support\n",
      "\n",
      "           0       0.94      0.75      0.84     15047\n",
      "           1       0.79      0.95      0.86     14675\n",
      "\n",
      "    accuracy                           0.85     29722\n",
      "   macro avg       0.87      0.85      0.85     29722\n",
      "weighted avg       0.87      0.85      0.85     29722\n",
      "\n"
     ]
    }
   ],
   "source": [
    "print(BestModel)\n",
    "print(confusion_matrix(y_test, predictions))\n",
    "print(classification_report(y_test, predictions))"
   ]
  },
  {
   "cell_type": "markdown",
   "metadata": {},
   "source": [
    "### Random Forest"
   ]
  },
  {
   "cell_type": "code",
   "execution_count": 38,
   "metadata": {},
   "outputs": [
    {
     "data": {
      "text/plain": [
       "RandomForestClassifier()"
      ]
     },
     "execution_count": 38,
     "metadata": {},
     "output_type": "execute_result"
    }
   ],
   "source": [
    "# with cv features\n",
    "cv_rf_clf = RandomForestClassifier()\n",
    "cv_rf_clf.fit(X_train_features,y_train)"
   ]
  },
  {
   "cell_type": "code",
   "execution_count": 39,
   "metadata": {},
   "outputs": [
    {
     "name": "stdout",
     "output_type": "stream",
     "text": [
      "Accuracy: 0.8526680573312697\n",
      "f1_score: 0.8642212644569162\n",
      "Recall Score: 0.9496422487223168\n",
      "Confusion Matrix :\n",
      "[[11407  3640]\n",
      " [  739 13936]]\n"
     ]
    }
   ],
   "source": [
    "#cv clf metrics\n",
    "predictions = cv_rf_clf.predict(X_test_features)\n",
    "print(\"Accuracy:\",accuracy_score(y_test, predictions))\n",
    "print(\"f1_score:\",f1_score(y_test, predictions))\n",
    "print(\"Recall Score: {}\".format(recall_score(y_test, predictions)))\n",
    "print(\"Confusion Matrix :\")\n",
    "print(confusion_matrix(y_test, predictions))"
   ]
  },
  {
   "cell_type": "code",
   "execution_count": 40,
   "metadata": {},
   "outputs": [
    {
     "name": "stdout",
     "output_type": "stream",
     "text": [
      "sheetal\n",
      "Female\n",
      "[[0.5380305 0.4619695]]\n",
      "None\n",
      "balaji\n",
      "Male\n",
      "[[0.035 0.965]]\n",
      "None\n",
      "Saba\n",
      "Female\n",
      "[[0.8575 0.1425]]\n",
      "None\n",
      "Tarun\n",
      "Male\n",
      "[[0.01 0.99]]\n",
      "None\n",
      "Karan\n",
      "Male\n",
      "[[0.28835657 0.71164343]]\n",
      "None\n",
      "Ms. Jay\n",
      "Male\n",
      "[[0.24464286 0.75535714]]\n",
      "None\n",
      "Dr. Jai\n",
      "Male\n",
      "[[0.23232967 0.76767033]]\n",
      "None\n",
      "Dr. Jaya\n",
      "Female\n",
      "[[0.535 0.465]]\n",
      "None\n",
      "neelam\n",
      "Female\n",
      "[[0.81399512 0.18600488]]\n",
      "None\n",
      "simran\n",
      "Female\n",
      "[[0.64 0.36]]\n",
      "None\n"
     ]
    }
   ],
   "source": [
    "name_list = [\"sheetal\",\"balaji\",\"Saba\",\"Tarun\",\"Karan\",\n",
    "           \"Ms. Jay\",\"Dr. Jai\",\"Dr. Jaya\",\n",
    "            \"neelam\",\"simran\"]\n",
    "\n",
    "vowel = ['a','e','i','o','u']\n",
    "sonorant = ['y', 'w', 'l', 'r', 'm', 'n','ng']\n",
    "is_vowel = [x.strip()[-1:] in vowel for x in name_list]\n",
    "is_vowel = data.is_vowel.astype(int)\n",
    "is_sonorant = [x.strip()[-1:] in sonorant for x in name_list]\n",
    "is_sonorant = data.is_sonorant.astype(int)\n",
    "\n",
    "for i in range(len(name_list)):\n",
    "    print(name_list[i])\n",
    "    print(genderpredictor1(name_list[i],is_vowel[i],is_sonorant[i],cv_rf_clf))"
   ]
  },
  {
   "cell_type": "markdown",
   "metadata": {},
   "source": [
    "-----------"
   ]
  }
 ],
 "metadata": {
  "kernelspec": {
   "display_name": "Python 3",
   "language": "python",
   "name": "python3"
  },
  "language_info": {
   "codemirror_mode": {
    "name": "ipython",
    "version": 3
   },
   "file_extension": ".py",
   "mimetype": "text/x-python",
   "name": "python",
   "nbconvert_exporter": "python",
   "pygments_lexer": "ipython3",
   "version": "3.7.6"
  }
 },
 "nbformat": 4,
 "nbformat_minor": 4
}
